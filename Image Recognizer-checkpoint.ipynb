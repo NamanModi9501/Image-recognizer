{
 "cells": [
  {
   "cell_type": "code",
   "execution_count": 1,
   "id": "f6a81a17",
   "metadata": {},
   "outputs": [],
   "source": [
    "import numpy as np\n",
    "import matplotlib.pyplot as plt\n",
    "import h5py\n",
    "import scipy\n",
    "from PIL import Image\n",
    "from scipy import ndimage\n",
    "from dataset1 import load_dataset\n",
    "\n",
    "%matplotlib inline\n",
    "\n",
    "train_set_x_orig, train_set_y, test_set_x_orig, test_set_y, classes= load_dataset()\n"
   ]
  },
  {
   "cell_type": "code",
   "execution_count": 2,
   "id": "a01cd6cd",
   "metadata": {},
   "outputs": [
    {
     "name": "stdout",
     "output_type": "stream",
     "text": [
      "y=[1], Its a 'cat' picture.\n"
     ]
    },
    {
     "data": {
      "image/png": "[encoded data removed]",
      "text/plain": [
       "<Figure size 432x288 with 1 Axes>"
      ]
     },
     "metadata": {
      "needs_background": "light"
     },
     "output_type": "display_data"
    }
   ],
   "source": [
    "index = 25\n",
    "plt.imshow(train_set_x_orig[index])\n",
    "print (\"y=\"+ str(train_set_y[:,index]) +\", Its a '\"+ classes[np.squeeze(train_set_y[:,index])].decode(\"utf-8\") +\"' picture.\")"
   ]
  },
  {
   "cell_type": "code",
   "execution_count": 3,
   "id": "2a5a6885",
   "metadata": {},
   "outputs": [
    {
     "name": "stdout",
     "output_type": "stream",
     "text": [
      "Number of Training Examples : 209\n",
      "Number of Test Items : 50\n",
      "Size of Each Image : (64,3)\n",
      "Size of Training Set : (209, 64, 64, 3)\n",
      "Size of Test Set :(50, 64, 64, 3)\n",
      "Size of Answers of Training Set : (1, 209)\n",
      "Size of Answer Set of Test Items : (1, 50)\n"
     ]
    }
   ],
   "source": [
    "#Gauging the Dimensions#\n",
    "m_train= train_set_x_orig.shape[0]\n",
    "m_test= test_set_x_orig.shape[0]\n",
    "num_px= train_set_x_orig[0].shape[0]\n",
    "\n",
    "#Quick Size Check#\n",
    "print (\"Number of Training Examples : \"+ str(m_train))\n",
    "print (\"Number of Test Items : \" + str(m_test))\n",
    "print (\"Size of Each Image : (\" + str(num_px)+\",3)\")\n",
    "print (\"Size of Training Set : \"+str(train_set_x_orig.shape))\n",
    "print (\"Size of Test Set :\"+str(test_set_x_orig.shape))\n",
    "print (\"Size of Answers of Training Set : \"+str(train_set_y.shape))\n",
    "print (\"Size of Answer Set of Test Items : \"+str(test_set_y.shape))"
   ]
  },
  {
   "cell_type": "code",
   "execution_count": 4,
   "id": "56536bff",
   "metadata": {},
   "outputs": [
    {
     "name": "stdout",
     "output_type": "stream",
     "text": [
      "Flattened Training Set : (12288, 209)\n",
      "Flattened Test Set : (12288, 50)\n",
      "Training Answer Set : (1, 209)\n",
      "Test Answer Set : (1, 50)\n",
      "Sanity Check : [ 82  71  68  89  83  83 100  98 104 106]\n"
     ]
    }
   ],
   "source": [
    "#Flattening of the Dataset#\n",
    "train_set_x_flatten= train_set_x_orig.reshape(train_set_x_orig.shape[0],-1).T\n",
    "test_set_x_flatten= test_set_x_orig.reshape(test_set_x_orig.shape[0],-1).T\n",
    "\n",
    "#Quick Size Check#\n",
    "print (\"Flattened Training Set : \"+ str(train_set_x_flatten.shape))\n",
    "print (\"Flattened Test Set : \" + str(test_set_x_flatten.shape))\n",
    "print (\"Training Answer Set : \" + str(train_set_y.shape))\n",
    "print (\"Test Answer Set : \" + str(test_set_y.shape))\n",
    "print (\"Sanity Check : \" + str(train_set_x_flatten[0:10,2]))\n",
    "\n",
    "#Standardizing the Dataset#\n",
    "train_set_x=train_set_x_flatten/255\n",
    "test_set_x=test_set_x_flatten/255"
   ]
  },
  {
   "cell_type": "code",
   "execution_count": 5,
   "id": "24048942",
   "metadata": {},
   "outputs": [],
   "source": [
    "def sigmoid(z):\n",
    "    \"\"\"\n",
    "    z=numpyarray\n",
    "    \n",
    "    Returns s(sigmoid of z)\n",
    "    \n",
    "    \"\"\"\n",
    "    s=1/(1+np.exp(-z))\n",
    "    \n",
    "    return s\n",
    "\n",
    "def initparameters(n):\n",
    "    \"\"\"\n",
    "    creating parameter w of size (n,1)\n",
    "    and b=0\n",
    "    \"\"\"\n",
    "    w= np.zeros([n,1])\n",
    "    b=0\n",
    "    \n",
    "    assert(w.shape==(n,1))\n",
    "    assert(isinstance(b,float) or isinstance(b,int))\n",
    "    \n",
    "    return w, b\n",
    "\n",
    "def propagate(w,b,X,Y):\n",
    "    \"\"\"\n",
    "    Implementing Cost Function and its gradient functions\n",
    "    \n",
    "    w: weight parameter with size (num_px*num-px*3,1)\n",
    "    b: bias scalar parameter \n",
    "    X: picture Data of Size (num_px*num_px*3,no. of Pictures)\n",
    "    Y: contains 0 or 1 with size (1,no. of Pictures)\n",
    "    \n",
    "    m: No. of Pictures\n",
    "    \n",
    "    returns\n",
    "    cost: Negative Log-likelihood cost of the Logistic Regression\n",
    "    dw : Gradient of Loss function wrt w, therefore same size as w\n",
    "    db : Gradient of Loss function wrt b, same size as b\n",
    "    grads: dictionary containing dw and db\n",
    "    \n",
    "    Forward Propagation\n",
    "    for each picture\n",
    "    z= w.X + b\n",
    "    A= sigmoid(z)\n",
    "    loss function= -Y.log(A)-(1-Y).log(1-A)\n",
    "    cost= (sum of Loss function)/m\n",
    "    \n",
    "    Backward Propagation\n",
    "    dw= X.(A-Y)/m\n",
    "    db= sumof(A-Y)/m    \n",
    "    \n",
    "    \"\"\"\n",
    "    m=X.shape[1]\n",
    "    #forward Propagation\n",
    "    A= sigmoid(np.dot(w.T,X)+b)\n",
    "    cost= np.sum( -Y * np.log(A) - ( (1-Y) * np.log(1-A) ) ) /m\n",
    "    \n",
    "    #Backward Propagation\n",
    "    dw= np.dot(X,(A-Y).T)/m\n",
    "    db= np.sum(A-Y)/m\n",
    "    \n",
    "    assert(dw.shape==w.shape)\n",
    "    assert(db.dtype==float)\n",
    "    cost=np.squeeze(cost)\n",
    "    assert(cost.shape==())\n",
    "    \n",
    "    grads={\n",
    "            \"dw\":dw,\n",
    "            \"db\":db\n",
    "        }\n",
    "    return grads, cost\n",
    "    \n",
    "def optimize(w,b,X,Y,n,learning_rate,print_cost=False):\n",
    "    \"\"\"\n",
    "    optimizing w and b by running gradient descent algorithm (x=x-a*dx,where a =learning rate)\n",
    "    \n",
    "    w: weight parameter with size (num_px*num-px*3,1)\n",
    "    b: bias scalar parameter \n",
    "    X: picture Data of Size (num_px*num_px*3,no. of Pictures)\n",
    "    Y: contains 0 or 1 with size (1,no. of Pictures)\n",
    "    n: No. of iteration for Optimization Loop\n",
    "    learning_rate: Learning rate of the gradient descent algorithm\n",
    "    print_cost: becomes true to print the loss after every 100 steps\n",
    "    \n",
    "    returns\n",
    "    params: dictionary containing the weight w and bias b\n",
    "    grads: dictionary containing the dw and db\n",
    "    costs: list of all the cost computed during the optimization which is to be used for ploting the learning graph\n",
    "        \n",
    "    \"\"\"\n",
    "    costs = []\n",
    "    for i in range(n):\n",
    "        grads, cost = propagate(w,b,X,Y)\n",
    "        \n",
    "        dw= grads[\"dw\"]\n",
    "        db= grads[\"db\"]\n",
    "        \n",
    "        w= w- learning_rate*dw\n",
    "        b= b- learning_rate*db\n",
    "        \n",
    "        if i%1000==0:\n",
    "            costs.append(cost)\n",
    "        if print_cost and i%100==0:\n",
    "            print(\"Cost after iteration %i :%f\" %(i,cost))\n",
    "            \n",
    "    param={\n",
    "        \"w\":w,\n",
    "        \"b\":b\n",
    "    }\n",
    "    grads={\n",
    "        \"dw\":dw,\n",
    "        \"db\":db\n",
    "    }\n",
    "    \n",
    "    return param, grads, costs\n",
    "\n",
    "def predict(w,b,X):\n",
    "    \"\"\"\n",
    "    predicts whether the Label(y) is equal to 0 or 1 using the learned logistic regression parameters(w,b)\n",
    "    \n",
    "    w: weight parameter with size (num_px*num-px*3,1)\n",
    "    b: bias scalar parameter \n",
    "    X: picture Data of Size (num_px*num_px*3,no. of Pictures)\n",
    "    \n",
    "    returns\n",
    "    Y_predictions: a numpy array containing all the predictions 0/1 for the examples X\n",
    "    \n",
    "    \"\"\"\n",
    "    m= X.shape[1]\n",
    "    Y_predictions= np.zeros((1,m))\n",
    "    w= w.reshape(X.shape[0],1)\n",
    "    \n",
    "    A=sigmoid(np.dot(w.T,X)-b)\n",
    "    \n",
    "    for i in range(A.shape[1]):\n",
    "        if A[0][i]>0.5:\n",
    "            Y_predictions[0][i]=1\n",
    "        else:\n",
    "            Y_predictions[0][i]=0\n",
    "    \n",
    "    assert(Y_predictions.shape==(1,m))\n",
    "    \n",
    "    return Y_predictions\n",
    "\n",
    "def model(X_train, Y_train, X_test, Y_test, n=2000, learning_rate=0.5, print_cost=False):\n",
    "    \"\"\"\n",
    "    The Logistic Regression Model it calls all the functions.\n",
    "    \n",
    "    X_train: Training Set of size (num_px*num_px*3,m_train)\n",
    "    Y_train: Training Labels of size (1,m_train)\n",
    "    X_test: Test set of size (num_px*num_px*3,m_test)\n",
    "    Y_test: Test Labels of size (1,m_test)\n",
    "    n: No. of Iteration for Optimization\n",
    "    learning_rate: argument for the optimize() function\n",
    "    \n",
    "    returns\n",
    "    d: dictionary containing info about the model\n",
    "    \n",
    "    \"\"\"\n",
    "    w,b=initparameters(X_train.shape[0])\n",
    "    \n",
    "    parameters, grads, costs=optimize( w, b, X_train,Y_train, n, learning_rate, print_cost)\n",
    "    \n",
    "    w=parameters[\"w\"]\n",
    "    b=parameters[\"b\"]\n",
    "    \n",
    "    Y_prediction_train= predict(w,b,X_train)\n",
    "    Y_prediction_test= predict(w,b,X_test)\n",
    "    \n",
    "    print(\"Train Accuracy: {} % \".format(100-np.mean(np.abs(Y_prediction_train - Y_train)*100)))\n",
    "    print(\"Test Accuracy: {} % \".format(100-np.mean(np.abs(Y_prediction_test - Y_test)*100)))\n",
    "    \n",
    "    d={\n",
    "        \"costs\":costs,\n",
    "        \"Y_prediction_train\": Y_prediction_train,\n",
    "        \"Y_prediction_test\": Y_prediction_test,\n",
    "        \"w\": w,\n",
    "        \"b\": b,\n",
    "        \"learning_rate\": learning_rate,\n",
    "        \"n\": n\n",
    "    }\n",
    "    return d"
   ]
  },
  {
   "cell_type": "code",
   "execution_count": 27,
   "id": "8d5851a8",
   "metadata": {},
   "outputs": [
    {
     "name": "stdout",
     "output_type": "stream",
     "text": [
      "Cost after iteration 0 :0.693147\n",
      "Cost after iteration 100 :0.584508\n",
      "Cost after iteration 200 :0.466949\n",
      "Cost after iteration 300 :0.376007\n",
      "Cost after iteration 400 :0.331463\n",
      "Cost after iteration 500 :0.303273\n",
      "Cost after iteration 600 :0.279880\n",
      "Cost after iteration 700 :0.260042\n",
      "Cost after iteration 800 :0.242941\n",
      "Cost after iteration 900 :0.228004\n",
      "Cost after iteration 1000 :0.214820\n",
      "Cost after iteration 1100 :0.203078\n",
      "Cost after iteration 1200 :0.192544\n",
      "Cost after iteration 1300 :0.183033\n",
      "Cost after iteration 1400 :0.174399\n",
      "Cost after iteration 1500 :0.166521\n",
      "Cost after iteration 1600 :0.159305\n",
      "Cost after iteration 1700 :0.152667\n",
      "Cost after iteration 1800 :0.146542\n",
      "Cost after iteration 1900 :0.140872\n",
      "Train Accuracy: 99.04306220095694 % \n",
      "Test Accuracy: 70.0 % \n"
     ]
    }
   ],
   "source": [
    "d= model(train_set_x,train_set_y,test_set_x,test_set_y, n=2000 ,learning_rate=0.005, print_cost=True)"
   ]
  },
  {
   "cell_type": "code",
   "execution_count": 29,
   "id": "68ecddc1",
   "metadata": {},
   "outputs": [
    {
     "name": "stdout",
     "output_type": "stream",
     "text": [
      "Y= [1]. It is a 'cat' picture.\n"
     ]
    },
    {
     "data": {
      "image/png": "[encoded data removed]",
      "text/plain": [
       "<Figure size 432x288 with 1 Axes>"
      ]
     },
     "metadata": {
      "needs_background": "light"
     },
     "output_type": "display_data"
    }
   ],
   "source": [
    "index=15\n",
    "plt.imshow(test_set_x[:,index].reshape((num_px,num_px,3)))\n",
    "print(\"Y= [\"+str(int(d[\"Y_prediction_test\"][0,index]))+\"], It is a '\"+classes[int(d[\"Y_prediction_test\"][0,index])].decode(\"utf-8\")+\"' picture.\")"
   ]
  }
 ],
 "metadata": {
  "kernelspec": {
   "display_name": "Python 3",
   "language": "python",
   "name": "python3"
  },
  "language_info": {
   "codemirror_mode": {
    "name": "ipython",
    "version": 3
   },
   "file_extension": ".py",
   "mimetype": "text/x-python",
   "name": "python",
   "nbconvert_exporter": "python",
   "pygments_lexer": "ipython3",
   "version": "3.8.8"
  }
 },
 "nbformat": 4,
 "nbformat_minor": 5
}
